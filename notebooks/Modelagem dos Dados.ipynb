{
 "cells": [
  {
   "cell_type": "markdown",
   "metadata": {},
   "source": [
    "# Modelagem dos Dados\n",
    "\n",
    "### *Descrição do problema*\n",
    "Você é um funcionário da OMS que deve avaliar os níveis de contaminação de um vírus em um determinado país. As pessoas dentro de uma sociedade podem estar conectadas de alguma maneira (familia, amizade ou trabalho) e cada pessoa possui um conjunto de atributos.\n",
    "Este vírus afeta esta sociedade como descrito a seguir:\n",
    "- a taxa de contaminação varia de pessoa para pessoa;\n",
    "- a taxa de contaminação de uma pessoa A para B é diferente de B para A e depende das características de ambas as pessoas (A e B);\n",
    "- a contaminação só passa através de indivíduos conectados;\n",
    "- não existe cura para essa doença;\n",
    "\n",
    "\n",
    "### *O desafio*\n",
    "Foram coletados os dados de contaminação (ou seja, as taxas de contaminação) para metade desta sociedade. Neste problema, você deverá estimar a taxa para o restante dessa sociedade e decidir políticas de saúde com base nos resultados obtidos.\n",
    "Observação: Para determinar as taxas de contaminação, devem ser levados em consideração tanto as características dos infectados quanto dos infectantes."
   ]
  },
  {
   "cell_type": "markdown",
   "metadata": {},
   "source": [
    "## Importando bibliotecas"
   ]
  },
  {
   "cell_type": "code",
   "execution_count": 1,
   "metadata": {},
   "outputs": [],
   "source": [
    "import math\n",
    "import warnings\n",
    "\n",
    "import numpy as np\n",
    "import pandas as pd\n",
    "from sklearn import linear_model, metrics, svm\n",
    "from sklearn.cluster import MiniBatchKMeans\n",
    "from sklearn.decomposition import PCA\n",
    "from sklearn.discriminant_analysis import LinearDiscriminantAnalysis\n",
    "from sklearn.impute import KNNImputer\n",
    "from sklearn.linear_model import (LinearRegression, LogisticRegression, Ridge)\n",
    "from sklearn.metrics import r2_score\n",
    "from sklearn.model_selection import (GroupKFold, KFold, ShuffleSplit,\n",
    "                                     StratifiedKFold, cross_validate,\n",
    "                                     train_test_split)\n",
    "from sklearn.naive_bayes import GaussianNB\n",
    "from sklearn.neighbors import KNeighborsClassifier, KNeighborsRegressor\n",
    "from sklearn.pipeline import Pipeline\n",
    "from sklearn.preprocessing import MinMaxScaler, OneHotEncoder, StandardScaler\n",
    "from tqdm import tqdm\n",
    "\n",
    "from script_impute.DataImputation import DataImputation"
   ]
  },
  {
   "cell_type": "code",
   "execution_count": 2,
   "metadata": {},
   "outputs": [],
   "source": [
    "# ignorando avisos\n",
    "warnings.filterwarnings('ignore')"
   ]
  },
  {
   "cell_type": "markdown",
   "metadata": {},
   "source": [
    "## Carregando os dados dos indivíduos e conexões"
   ]
  },
  {
   "cell_type": "code",
   "execution_count": 13,
   "metadata": {
    "scrolled": true
   },
   "outputs": [],
   "source": [
    "df_individuos = pd.read_csv(\"../data/individuos_espec.csv\", sep=';')\n",
    "df_conexoes = pd.read_csv(\"../data/conexoes_espec.csv\", sep=';')"
   ]
  },
  {
   "cell_type": "markdown",
   "metadata": {},
   "source": [
    "## Visualizando os dados dos indivíduos"
   ]
  },
  {
   "cell_type": "code",
   "execution_count": 10,
   "metadata": {},
   "outputs": [
    {
     "name": "stdout",
     "output_type": "stream",
     "text": [
      "Shape: (1000000, 9)\n"
     ]
    },
    {
     "data": {
      "text/html": [
       "<div>\n",
       "<style scoped>\n",
       "    .dataframe tbody tr th:only-of-type {\n",
       "        vertical-align: middle;\n",
       "    }\n",
       "\n",
       "    .dataframe tbody tr th {\n",
       "        vertical-align: top;\n",
       "    }\n",
       "\n",
       "    .dataframe thead th {\n",
       "        text-align: right;\n",
       "    }\n",
       "</style>\n",
       "<table border=\"1\" class=\"dataframe\">\n",
       "  <thead>\n",
       "    <tr style=\"text-align: right;\">\n",
       "      <th></th>\n",
       "      <th>name</th>\n",
       "      <th>idade</th>\n",
       "      <th>estado_civil</th>\n",
       "      <th>qt_filhos</th>\n",
       "      <th>estuda</th>\n",
       "      <th>trabalha</th>\n",
       "      <th>pratica_esportes</th>\n",
       "      <th>transporte_mais_utilizado</th>\n",
       "      <th>IMC</th>\n",
       "    </tr>\n",
       "  </thead>\n",
       "  <tbody>\n",
       "    <tr>\n",
       "      <th>0</th>\n",
       "      <td>1</td>\n",
       "      <td>44.0</td>\n",
       "      <td>divorciado</td>\n",
       "      <td>1.0</td>\n",
       "      <td>1.0</td>\n",
       "      <td>0.0</td>\n",
       "      <td>1.0</td>\n",
       "      <td>publico</td>\n",
       "      <td>22.200956</td>\n",
       "    </tr>\n",
       "    <tr>\n",
       "      <th>1</th>\n",
       "      <td>2</td>\n",
       "      <td>24.0</td>\n",
       "      <td>casado</td>\n",
       "      <td>0.0</td>\n",
       "      <td>0.0</td>\n",
       "      <td>0.0</td>\n",
       "      <td>1.0</td>\n",
       "      <td>publico</td>\n",
       "      <td>25.378720</td>\n",
       "    </tr>\n",
       "    <tr>\n",
       "      <th>2</th>\n",
       "      <td>3</td>\n",
       "      <td>35.0</td>\n",
       "      <td>solteiro</td>\n",
       "      <td>1.0</td>\n",
       "      <td>0.0</td>\n",
       "      <td>0.0</td>\n",
       "      <td>1.0</td>\n",
       "      <td>particular</td>\n",
       "      <td>19.952393</td>\n",
       "    </tr>\n",
       "    <tr>\n",
       "      <th>3</th>\n",
       "      <td>4</td>\n",
       "      <td>50.0</td>\n",
       "      <td>casado</td>\n",
       "      <td>1.0</td>\n",
       "      <td>1.0</td>\n",
       "      <td>1.0</td>\n",
       "      <td>0.0</td>\n",
       "      <td>publico</td>\n",
       "      <td>26.732053</td>\n",
       "    </tr>\n",
       "    <tr>\n",
       "      <th>4</th>\n",
       "      <td>5</td>\n",
       "      <td>30.0</td>\n",
       "      <td>solteiro</td>\n",
       "      <td>2.0</td>\n",
       "      <td>1.0</td>\n",
       "      <td>0.0</td>\n",
       "      <td>1.0</td>\n",
       "      <td>publico</td>\n",
       "      <td>15.295668</td>\n",
       "    </tr>\n",
       "  </tbody>\n",
       "</table>\n",
       "</div>"
      ],
      "text/plain": [
       "   name  idade estado_civil  qt_filhos  estuda  trabalha  pratica_esportes  \\\n",
       "0     1   44.0   divorciado        1.0     1.0       0.0               1.0   \n",
       "1     2   24.0       casado        0.0     0.0       0.0               1.0   \n",
       "2     3   35.0     solteiro        1.0     0.0       0.0               1.0   \n",
       "3     4   50.0       casado        1.0     1.0       1.0               0.0   \n",
       "4     5   30.0     solteiro        2.0     1.0       0.0               1.0   \n",
       "\n",
       "  transporte_mais_utilizado        IMC  \n",
       "0                   publico  22.200956  \n",
       "1                   publico  25.378720  \n",
       "2                particular  19.952393  \n",
       "3                   publico  26.732053  \n",
       "4                   publico  15.295668  "
      ]
     },
     "execution_count": 10,
     "metadata": {},
     "output_type": "execute_result"
    }
   ],
   "source": [
    "print(\"Shape:\", df_individuos.shape)\n",
    "df_individuos.head()"
   ]
  },
  {
   "cell_type": "markdown",
   "metadata": {},
   "source": [
    "## Info dos dados dos indivíduos"
   ]
  },
  {
   "cell_type": "code",
   "execution_count": 11,
   "metadata": {},
   "outputs": [
    {
     "name": "stdout",
     "output_type": "stream",
     "text": [
      "<class 'pandas.core.frame.DataFrame'>\n",
      "RangeIndex: 1000000 entries, 0 to 999999\n",
      "Data columns (total 9 columns):\n",
      " #   Column                     Non-Null Count    Dtype  \n",
      "---  ------                     --------------    -----  \n",
      " 0   name                       1000000 non-null  int64  \n",
      " 1   idade                      904063 non-null   float64\n",
      " 2   estado_civil               949927 non-null   object \n",
      " 3   qt_filhos                  971133 non-null   float64\n",
      " 4   estuda                     959870 non-null   float64\n",
      " 5   trabalha                   993647 non-null   float64\n",
      " 6   pratica_esportes           850876 non-null   float64\n",
      " 7   transporte_mais_utilizado  956967 non-null   object \n",
      " 8   IMC                        886130 non-null   float64\n",
      "dtypes: float64(6), int64(1), object(2)\n",
      "memory usage: 68.7+ MB\n"
     ]
    }
   ],
   "source": [
    "df_individuos.info()"
   ]
  },
  {
   "cell_type": "markdown",
   "metadata": {},
   "source": [
    "## Visualizando valores ausentes nos dados dos indivíduos"
   ]
  },
  {
   "cell_type": "code",
   "execution_count": 12,
   "metadata": {},
   "outputs": [
    {
     "data": {
      "text/plain": [
       "name                              0\n",
       "idade                         95937\n",
       "estado_civil                  50073\n",
       "qt_filhos                     28867\n",
       "estuda                        40130\n",
       "trabalha                       6353\n",
       "pratica_esportes             149124\n",
       "transporte_mais_utilizado     43033\n",
       "IMC                          113870\n",
       "dtype: int64"
      ]
     },
     "execution_count": 12,
     "metadata": {},
     "output_type": "execute_result"
    }
   ],
   "source": [
    "df_individuos.isna().sum()"
   ]
  },
  {
   "cell_type": "markdown",
   "metadata": {},
   "source": [
    "## Visualizando os dados das conexoes dos indivíduos"
   ]
  },
  {
   "cell_type": "code",
   "execution_count": 13,
   "metadata": {},
   "outputs": [
    {
     "name": "stdout",
     "output_type": "stream",
     "text": [
      "Shape: (999999, 5)\n"
     ]
    },
    {
     "data": {
      "text/html": [
       "<div>\n",
       "<style scoped>\n",
       "    .dataframe tbody tr th:only-of-type {\n",
       "        vertical-align: middle;\n",
       "    }\n",
       "\n",
       "    .dataframe tbody tr th {\n",
       "        vertical-align: top;\n",
       "    }\n",
       "\n",
       "    .dataframe thead th {\n",
       "        text-align: right;\n",
       "    }\n",
       "</style>\n",
       "<table border=\"1\" class=\"dataframe\">\n",
       "  <thead>\n",
       "    <tr style=\"text-align: right;\">\n",
       "      <th></th>\n",
       "      <th>V1</th>\n",
       "      <th>V2</th>\n",
       "      <th>grau</th>\n",
       "      <th>proximidade</th>\n",
       "      <th>prob_V1_V2</th>\n",
       "    </tr>\n",
       "  </thead>\n",
       "  <tbody>\n",
       "    <tr>\n",
       "      <th>0</th>\n",
       "      <td>1</td>\n",
       "      <td>2</td>\n",
       "      <td>trabalho</td>\n",
       "      <td>visita_frequente</td>\n",
       "      <td>0.589462</td>\n",
       "    </tr>\n",
       "    <tr>\n",
       "      <th>1</th>\n",
       "      <td>1</td>\n",
       "      <td>3</td>\n",
       "      <td>trabalho</td>\n",
       "      <td>visita_rara</td>\n",
       "      <td>0.708465</td>\n",
       "    </tr>\n",
       "    <tr>\n",
       "      <th>2</th>\n",
       "      <td>2</td>\n",
       "      <td>4</td>\n",
       "      <td>trabalho</td>\n",
       "      <td>visita_casual</td>\n",
       "      <td>NaN</td>\n",
       "    </tr>\n",
       "    <tr>\n",
       "      <th>3</th>\n",
       "      <td>2</td>\n",
       "      <td>5</td>\n",
       "      <td>trabalho</td>\n",
       "      <td>visita_rara</td>\n",
       "      <td>0.638842</td>\n",
       "    </tr>\n",
       "    <tr>\n",
       "      <th>4</th>\n",
       "      <td>3</td>\n",
       "      <td>6</td>\n",
       "      <td>amigos</td>\n",
       "      <td>mora_junto</td>\n",
       "      <td>NaN</td>\n",
       "    </tr>\n",
       "  </tbody>\n",
       "</table>\n",
       "</div>"
      ],
      "text/plain": [
       "   V1  V2      grau       proximidade  prob_V1_V2\n",
       "0   1   2  trabalho  visita_frequente    0.589462\n",
       "1   1   3  trabalho       visita_rara    0.708465\n",
       "2   2   4  trabalho     visita_casual         NaN\n",
       "3   2   5  trabalho       visita_rara    0.638842\n",
       "4   3   6    amigos        mora_junto         NaN"
      ]
     },
     "execution_count": 13,
     "metadata": {},
     "output_type": "execute_result"
    }
   ],
   "source": [
    "print(\"Shape:\", df_conexoes.shape)\n",
    "df_conexoes.head()"
   ]
  },
  {
   "cell_type": "markdown",
   "metadata": {},
   "source": [
    "## Info dos dados das conexões dos indivíduos"
   ]
  },
  {
   "cell_type": "code",
   "execution_count": 14,
   "metadata": {},
   "outputs": [
    {
     "name": "stdout",
     "output_type": "stream",
     "text": [
      "<class 'pandas.core.frame.DataFrame'>\n",
      "RangeIndex: 999999 entries, 0 to 999998\n",
      "Data columns (total 5 columns):\n",
      " #   Column       Non-Null Count   Dtype  \n",
      "---  ------       --------------   -----  \n",
      " 0   V1           999999 non-null  int64  \n",
      " 1   V2           999999 non-null  int64  \n",
      " 2   grau         999999 non-null  object \n",
      " 3   proximidade  999999 non-null  object \n",
      " 4   prob_V1_V2   499999 non-null  float64\n",
      "dtypes: float64(1), int64(2), object(2)\n",
      "memory usage: 38.1+ MB\n"
     ]
    }
   ],
   "source": [
    "df_conexoes.info()"
   ]
  },
  {
   "cell_type": "markdown",
   "metadata": {},
   "source": [
    "## Visualizando valores ausentes nos dados de conexões dos indivíduos"
   ]
  },
  {
   "cell_type": "code",
   "execution_count": 15,
   "metadata": {},
   "outputs": [
    {
     "data": {
      "text/plain": [
       "V1                  0\n",
       "V2                  0\n",
       "grau                0\n",
       "proximidade         0\n",
       "prob_V1_V2     500000\n",
       "dtype: int64"
      ]
     },
     "execution_count": 15,
     "metadata": {},
     "output_type": "execute_result"
    }
   ],
   "source": [
    "df_conexoes.isna().sum()"
   ]
  },
  {
   "cell_type": "markdown",
   "metadata": {},
   "source": [
    "### Obersavções:\n",
    "\n",
    "- __Dados dos indivíduos__: \n",
    "Conforme visualizado acima, os dados dos indivíduos possuem valores ausentes em todas as colunas. Esses dados serão preenchidos com o método [KNNImputer](https://scikit-learn.org/stable/modules/generated/sklearn.impute.KNNImputer.html) do scikit-learn, este método faz a imputação para completar valores ausentes usando `k-Nearest Neighbors`.\n",
    "\n",
    "- __Dados de conexões dos indivíduos__: \n",
    "Os dados de conexões dos indivíduos possuem, conforme esperado, valores ausentes na coluna `prob_V1_V2`. Esses dados ausentes serão preenchidos com as estimativas retornadas do modelo utilizado."
   ]
  },
  {
   "cell_type": "markdown",
   "metadata": {},
   "source": [
    "## Imputação de valores ausentes nos dados dos indivíduos\n",
    "### Método de imputação [KNNImputer](https://scikit-learn.org/stable/modules/generated/sklearn.impute.KNNImputer.html) \n",
    "\n",
    "Em um primeiro momento, todo processo foi realizado no notebook porém para torná-lo mais enxuto, optei por levar o processo para um script separado, que também pode ser encontrado neste repositório. Métodos mais simples poderiam ter sido escolhidos, por exemplo, ao analisar as medidas de tendências centrais dos dados, a mediana poderia ter sido escolhida. Entretanto, por já ter estudado, em cursos anteriores, este método de imputação, optei pelo mesmo. É válido ressaltar que a aplicação do presente método demandou pesquisas em documentações e notebooks utilizados anteriormente."
   ]
  },
  {
   "cell_type": "markdown",
   "metadata": {},
   "source": [
    "Para a diminuição do tempo de processamento, é possível acessar os dados, já imputados, rodando a célula a seguir:"
   ]
  },
  {
   "cell_type": "code",
   "execution_count": 19,
   "metadata": {
    "scrolled": true
   },
   "outputs": [],
   "source": [
    "new_df_individuos = pd.read_csv('../data/new_individuos_espec.csv')"
   ]
  },
  {
   "cell_type": "code",
   "execution_count": 24,
   "metadata": {},
   "outputs": [
    {
     "data": {
      "text/html": [
       "<div>\n",
       "<style scoped>\n",
       "    .dataframe tbody tr th:only-of-type {\n",
       "        vertical-align: middle;\n",
       "    }\n",
       "\n",
       "    .dataframe tbody tr th {\n",
       "        vertical-align: top;\n",
       "    }\n",
       "\n",
       "    .dataframe thead th {\n",
       "        text-align: right;\n",
       "    }\n",
       "</style>\n",
       "<table border=\"1\" class=\"dataframe\">\n",
       "  <thead>\n",
       "    <tr style=\"text-align: right;\">\n",
       "      <th></th>\n",
       "      <th>name</th>\n",
       "      <th>idade</th>\n",
       "      <th>estado_civil</th>\n",
       "      <th>qt_filhos</th>\n",
       "      <th>estuda</th>\n",
       "      <th>trabalha</th>\n",
       "      <th>pratica_esportes</th>\n",
       "      <th>transporte_mais_utilizado</th>\n",
       "      <th>IMC</th>\n",
       "    </tr>\n",
       "  </thead>\n",
       "  <tbody>\n",
       "    <tr>\n",
       "      <th>0</th>\n",
       "      <td>260368</td>\n",
       "      <td>54</td>\n",
       "      <td>solteiro</td>\n",
       "      <td>0</td>\n",
       "      <td>0</td>\n",
       "      <td>1</td>\n",
       "      <td>1</td>\n",
       "      <td>particular</td>\n",
       "      <td>23.371572</td>\n",
       "    </tr>\n",
       "    <tr>\n",
       "      <th>1</th>\n",
       "      <td>145753</td>\n",
       "      <td>25</td>\n",
       "      <td>solteiro</td>\n",
       "      <td>0</td>\n",
       "      <td>1</td>\n",
       "      <td>1</td>\n",
       "      <td>0</td>\n",
       "      <td>publico</td>\n",
       "      <td>15.039098</td>\n",
       "    </tr>\n",
       "    <tr>\n",
       "      <th>2</th>\n",
       "      <td>40429</td>\n",
       "      <td>16</td>\n",
       "      <td>solteiro</td>\n",
       "      <td>0</td>\n",
       "      <td>0</td>\n",
       "      <td>1</td>\n",
       "      <td>0</td>\n",
       "      <td>publico</td>\n",
       "      <td>18.390805</td>\n",
       "    </tr>\n",
       "    <tr>\n",
       "      <th>3</th>\n",
       "      <td>801085</td>\n",
       "      <td>20</td>\n",
       "      <td>divorciado</td>\n",
       "      <td>0</td>\n",
       "      <td>0</td>\n",
       "      <td>1</td>\n",
       "      <td>0</td>\n",
       "      <td>publico</td>\n",
       "      <td>18.040247</td>\n",
       "    </tr>\n",
       "    <tr>\n",
       "      <th>4</th>\n",
       "      <td>195257</td>\n",
       "      <td>23</td>\n",
       "      <td>solteiro</td>\n",
       "      <td>0</td>\n",
       "      <td>0</td>\n",
       "      <td>1</td>\n",
       "      <td>0</td>\n",
       "      <td>particular</td>\n",
       "      <td>24.664055</td>\n",
       "    </tr>\n",
       "  </tbody>\n",
       "</table>\n",
       "</div>"
      ],
      "text/plain": [
       "     name  idade estado_civil  qt_filhos  estuda  trabalha  pratica_esportes  \\\n",
       "0  260368     54     solteiro          0       0         1                 1   \n",
       "1  145753     25     solteiro          0       1         1                 0   \n",
       "2   40429     16     solteiro          0       0         1                 0   \n",
       "3  801085     20   divorciado          0       0         1                 0   \n",
       "4  195257     23     solteiro          0       0         1                 0   \n",
       "\n",
       "  transporte_mais_utilizado        IMC  \n",
       "0                particular  23.371572  \n",
       "1                   publico  15.039098  \n",
       "2                   publico  18.390805  \n",
       "3                   publico  18.040247  \n",
       "4                particular  24.664055  "
      ]
     },
     "execution_count": 24,
     "metadata": {},
     "output_type": "execute_result"
    }
   ],
   "source": [
    "new_df_individuos.head()"
   ]
  },
  {
   "cell_type": "markdown",
   "metadata": {},
   "source": [
    "Caso opte por refazer o processamento, rode célula seguinte:"
   ]
  },
  {
   "cell_type": "code",
   "execution_count": null,
   "metadata": {},
   "outputs": [
    {
     "name": "stderr",
     "output_type": "stream",
     "text": [
      "100%|██████████████████████████████████████████████████████████████████████████████████████████████████| 86/86 [06:43<00:00,  4.69s/it]\n"
     ]
    }
   ],
   "source": [
    "df_imputed = DataImputation(df_individuos)\n",
    "df_imputed.impute()\n",
    "new_df_individuos = df_imputed.get_data()"
   ]
  },
  {
   "cell_type": "code",
   "execution_count": 26,
   "metadata": {},
   "outputs": [],
   "source": [
    "# salvando os dados processados em um novo .csv\n",
    "\n",
    "# new_df_individuos.to_csv('../data/new_individuos_espec.csv')"
   ]
  },
  {
   "cell_type": "markdown",
   "metadata": {},
   "source": [
    "Visualizo novamente a existência de dados ausentes nos dados do indivíduos e conforme esperado, pós processamento, os dados foram imputados."
   ]
  },
  {
   "cell_type": "code",
   "execution_count": 30,
   "metadata": {},
   "outputs": [
    {
     "data": {
      "text/plain": [
       "name                         0\n",
       "idade                        0\n",
       "estado_civil                 0\n",
       "qt_filhos                    0\n",
       "estuda                       0\n",
       "trabalha                     0\n",
       "pratica_esportes             0\n",
       "transporte_mais_utilizado    0\n",
       "IMC                          0\n",
       "dtype: int64"
      ]
     },
     "execution_count": 30,
     "metadata": {},
     "output_type": "execute_result"
    }
   ],
   "source": [
    "new_df_individuos.isna().sum()"
   ]
  },
  {
   "cell_type": "markdown",
   "metadata": {},
   "source": [
    "## Preparação dos dados"
   ]
  },
  {
   "cell_type": "markdown",
   "metadata": {},
   "source": [
    "#### __Dados dos indivíduos__:\n",
    "- Nessa etapa, já com os dados dos indivíduos imputados, seguirei com as etapas de normalização dos dados numéricos e encode dos dados categóricos."
   ]
  },
  {
   "cell_type": "code",
   "execution_count": 26,
   "metadata": {
    "scrolled": true
   },
   "outputs": [],
   "source": [
    "df_ind = new_df_individuos.copy()\n",
    "df_con = df_conexoes.copy()"
   ]
  },
  {
   "cell_type": "code",
   "execution_count": 32,
   "metadata": {
    "scrolled": true
   },
   "outputs": [],
   "source": [
    "# normalização dos dados dos individuos\n",
    "\n",
    "norm_params = {}\n",
    "for col in df_ind.columns:\n",
    "    if col != 'name':\n",
    "        if df_ind[col].dtype != 'object':\n",
    "            maxim = df_ind[col].max()\n",
    "            minim = df_ind[col].min()\n",
    "            norm_params[f'max_{col}'] = maxim\n",
    "            norm_params[f'min_{col}'] = minim\n",
    "            df_ind[col] = (df_ind[col] - minim)/(maxim - minim)"
   ]
  },
  {
   "cell_type": "code",
   "execution_count": 33,
   "metadata": {},
   "outputs": [],
   "source": [
    "# encode dos dados dos individuos\n",
    "\n",
    "for col in df_ind.columns:\n",
    "    if col != 'name':\n",
    "        if df_ind[col].dtype == 'object':\n",
    "            encoding = pd.get_dummies(df_ind[col], prefix=col, prefix_sep='-')\n",
    "            df_ind = df_ind.drop(col, axis=1)\n",
    "            df_ind = df_ind.join(encoding)"
   ]
  },
  {
   "cell_type": "markdown",
   "metadata": {},
   "source": [
    "#### __Dados das conexões dos indivíduos__:\n",
    "- Encode dos dados categóricos presentes nas conexões."
   ]
  },
  {
   "cell_type": "code",
   "execution_count": 34,
   "metadata": {},
   "outputs": [],
   "source": [
    "# encode dos dados de concexões dos individuos\n",
    "\n",
    "for col in df_con.columns:\n",
    "    if col != 'name':\n",
    "        if df_con[col].dtype == 'object':\n",
    "            encoding = pd.get_dummies(df_con[col], prefix=col, prefix_sep='-')\n",
    "            df_con = df_con.drop(col, axis=1)\n",
    "            df_con = df_con.join(encoding)"
   ]
  },
  {
   "cell_type": "markdown",
   "metadata": {},
   "source": [
    "## Merge dos dados de indivíduos e conexões processados"
   ]
  },
  {
   "cell_type": "code",
   "execution_count": 16,
   "metadata": {},
   "outputs": [],
   "source": [
    "def create_df(df_ind, df_con):\n",
    "    df_merged = pd.merge(df_ind.rename(columns=lambda x: x + '_V2'), df_con, how='right',\n",
    "                         left_on='name_V2',  right_on='V2')\n",
    "    df_merged = pd.merge(df_ind.rename(columns=lambda x: x + '_V1'), df_merged, how='right',\n",
    "                         left_on='name_V1', right_on='V1')\n",
    "    df_merged = df_merged.drop(['V1', 'V2'], axis=1)\n",
    "    return df_merged"
   ]
  },
  {
   "cell_type": "code",
   "execution_count": 36,
   "metadata": {},
   "outputs": [],
   "source": [
    "df_merged = create_df(df_ind, df_con)"
   ]
  },
  {
   "cell_type": "code",
   "execution_count": 37,
   "metadata": {},
   "outputs": [
    {
     "data": {
      "text/html": [
       "<div>\n",
       "<style scoped>\n",
       "    .dataframe tbody tr th:only-of-type {\n",
       "        vertical-align: middle;\n",
       "    }\n",
       "\n",
       "    .dataframe tbody tr th {\n",
       "        vertical-align: top;\n",
       "    }\n",
       "\n",
       "    .dataframe thead th {\n",
       "        text-align: right;\n",
       "    }\n",
       "</style>\n",
       "<table border=\"1\" class=\"dataframe\">\n",
       "  <thead>\n",
       "    <tr style=\"text-align: right;\">\n",
       "      <th></th>\n",
       "      <th>name_V1</th>\n",
       "      <th>idade_V1</th>\n",
       "      <th>qt_filhos_V1</th>\n",
       "      <th>estuda_V1</th>\n",
       "      <th>trabalha_V1</th>\n",
       "      <th>pratica_esportes_V1</th>\n",
       "      <th>IMC_V1</th>\n",
       "      <th>estado_civil-casado_V1</th>\n",
       "      <th>estado_civil-divorciado_V1</th>\n",
       "      <th>estado_civil-solteiro_V1</th>\n",
       "      <th>...</th>\n",
       "      <th>transporte_mais_utilizado-publico_V2</th>\n",
       "      <th>transporte_mais_utilizado-taxi_V2</th>\n",
       "      <th>prob_V1_V2</th>\n",
       "      <th>grau-amigos</th>\n",
       "      <th>grau-familia</th>\n",
       "      <th>grau-trabalho</th>\n",
       "      <th>proximidade-mora_junto</th>\n",
       "      <th>proximidade-visita_casual</th>\n",
       "      <th>proximidade-visita_frequente</th>\n",
       "      <th>proximidade-visita_rara</th>\n",
       "    </tr>\n",
       "  </thead>\n",
       "  <tbody>\n",
       "    <tr>\n",
       "      <th>0</th>\n",
       "      <td>1</td>\n",
       "      <td>0.354839</td>\n",
       "      <td>0.111111</td>\n",
       "      <td>1.0</td>\n",
       "      <td>0.0</td>\n",
       "      <td>1.0</td>\n",
       "      <td>0.205777</td>\n",
       "      <td>0</td>\n",
       "      <td>1</td>\n",
       "      <td>0</td>\n",
       "      <td>...</td>\n",
       "      <td>1</td>\n",
       "      <td>0</td>\n",
       "      <td>0.589462</td>\n",
       "      <td>0</td>\n",
       "      <td>0</td>\n",
       "      <td>1</td>\n",
       "      <td>0</td>\n",
       "      <td>0</td>\n",
       "      <td>1</td>\n",
       "      <td>0</td>\n",
       "    </tr>\n",
       "    <tr>\n",
       "      <th>1</th>\n",
       "      <td>1</td>\n",
       "      <td>0.354839</td>\n",
       "      <td>0.111111</td>\n",
       "      <td>1.0</td>\n",
       "      <td>0.0</td>\n",
       "      <td>1.0</td>\n",
       "      <td>0.205777</td>\n",
       "      <td>0</td>\n",
       "      <td>1</td>\n",
       "      <td>0</td>\n",
       "      <td>...</td>\n",
       "      <td>0</td>\n",
       "      <td>0</td>\n",
       "      <td>0.708465</td>\n",
       "      <td>0</td>\n",
       "      <td>0</td>\n",
       "      <td>1</td>\n",
       "      <td>0</td>\n",
       "      <td>0</td>\n",
       "      <td>0</td>\n",
       "      <td>1</td>\n",
       "    </tr>\n",
       "    <tr>\n",
       "      <th>2</th>\n",
       "      <td>2</td>\n",
       "      <td>0.193548</td>\n",
       "      <td>0.000000</td>\n",
       "      <td>0.0</td>\n",
       "      <td>0.0</td>\n",
       "      <td>1.0</td>\n",
       "      <td>0.243471</td>\n",
       "      <td>1</td>\n",
       "      <td>0</td>\n",
       "      <td>0</td>\n",
       "      <td>...</td>\n",
       "      <td>1</td>\n",
       "      <td>0</td>\n",
       "      <td>NaN</td>\n",
       "      <td>0</td>\n",
       "      <td>0</td>\n",
       "      <td>1</td>\n",
       "      <td>0</td>\n",
       "      <td>1</td>\n",
       "      <td>0</td>\n",
       "      <td>0</td>\n",
       "    </tr>\n",
       "    <tr>\n",
       "      <th>3</th>\n",
       "      <td>2</td>\n",
       "      <td>0.193548</td>\n",
       "      <td>0.000000</td>\n",
       "      <td>0.0</td>\n",
       "      <td>0.0</td>\n",
       "      <td>1.0</td>\n",
       "      <td>0.243471</td>\n",
       "      <td>1</td>\n",
       "      <td>0</td>\n",
       "      <td>0</td>\n",
       "      <td>...</td>\n",
       "      <td>1</td>\n",
       "      <td>0</td>\n",
       "      <td>0.638842</td>\n",
       "      <td>0</td>\n",
       "      <td>0</td>\n",
       "      <td>1</td>\n",
       "      <td>0</td>\n",
       "      <td>0</td>\n",
       "      <td>0</td>\n",
       "      <td>1</td>\n",
       "    </tr>\n",
       "    <tr>\n",
       "      <th>4</th>\n",
       "      <td>3</td>\n",
       "      <td>0.282258</td>\n",
       "      <td>0.111111</td>\n",
       "      <td>0.0</td>\n",
       "      <td>0.0</td>\n",
       "      <td>1.0</td>\n",
       "      <td>0.179106</td>\n",
       "      <td>0</td>\n",
       "      <td>0</td>\n",
       "      <td>1</td>\n",
       "      <td>...</td>\n",
       "      <td>1</td>\n",
       "      <td>0</td>\n",
       "      <td>NaN</td>\n",
       "      <td>1</td>\n",
       "      <td>0</td>\n",
       "      <td>0</td>\n",
       "      <td>1</td>\n",
       "      <td>0</td>\n",
       "      <td>0</td>\n",
       "      <td>0</td>\n",
       "    </tr>\n",
       "  </tbody>\n",
       "</table>\n",
       "<p>5 rows × 36 columns</p>\n",
       "</div>"
      ],
      "text/plain": [
       "   name_V1  idade_V1  qt_filhos_V1  estuda_V1  trabalha_V1  \\\n",
       "0        1  0.354839      0.111111        1.0          0.0   \n",
       "1        1  0.354839      0.111111        1.0          0.0   \n",
       "2        2  0.193548      0.000000        0.0          0.0   \n",
       "3        2  0.193548      0.000000        0.0          0.0   \n",
       "4        3  0.282258      0.111111        0.0          0.0   \n",
       "\n",
       "   pratica_esportes_V1    IMC_V1  estado_civil-casado_V1  \\\n",
       "0                  1.0  0.205777                       0   \n",
       "1                  1.0  0.205777                       0   \n",
       "2                  1.0  0.243471                       1   \n",
       "3                  1.0  0.243471                       1   \n",
       "4                  1.0  0.179106                       0   \n",
       "\n",
       "   estado_civil-divorciado_V1  estado_civil-solteiro_V1  ...  \\\n",
       "0                           1                         0  ...   \n",
       "1                           1                         0  ...   \n",
       "2                           0                         0  ...   \n",
       "3                           0                         0  ...   \n",
       "4                           0                         1  ...   \n",
       "\n",
       "   transporte_mais_utilizado-publico_V2  transporte_mais_utilizado-taxi_V2  \\\n",
       "0                                     1                                  0   \n",
       "1                                     0                                  0   \n",
       "2                                     1                                  0   \n",
       "3                                     1                                  0   \n",
       "4                                     1                                  0   \n",
       "\n",
       "   prob_V1_V2  grau-amigos  grau-familia  grau-trabalho  \\\n",
       "0    0.589462            0             0              1   \n",
       "1    0.708465            0             0              1   \n",
       "2         NaN            0             0              1   \n",
       "3    0.638842            0             0              1   \n",
       "4         NaN            1             0              0   \n",
       "\n",
       "   proximidade-mora_junto  proximidade-visita_casual  \\\n",
       "0                       0                          0   \n",
       "1                       0                          0   \n",
       "2                       0                          1   \n",
       "3                       0                          0   \n",
       "4                       1                          0   \n",
       "\n",
       "   proximidade-visita_frequente  proximidade-visita_rara  \n",
       "0                             1                        0  \n",
       "1                             0                        1  \n",
       "2                             0                        0  \n",
       "3                             0                        1  \n",
       "4                             0                        0  \n",
       "\n",
       "[5 rows x 36 columns]"
      ]
     },
     "execution_count": 37,
     "metadata": {},
     "output_type": "execute_result"
    }
   ],
   "source": [
    "df_merged.head()"
   ]
  },
  {
   "cell_type": "markdown",
   "metadata": {},
   "source": [
    "## Imputação dos dados de taxa de contaminação\n",
    "\n",
    "### Imputação utilizando regressão pelo k vizinhos mais próximos através do algoritmo [KNeighborsRegressor](https://scikit-learn.org/stable/modules/generated/sklearn.neighbors.KNeighborsRegressor.html) "
   ]
  },
  {
   "cell_type": "code",
   "execution_count": 3,
   "metadata": {},
   "outputs": [],
   "source": [
    "# redução de dimensionalidade com PCA\n",
    "\n",
    "cols_to_drop = ['name_V1', 'name_V2', 'prob_V1_V2']\n",
    "\n",
    "def pca_transform(df, n_components=0.9):\n",
    "    scaler = MinMaxScaler()\n",
    "    pca = PCA(n_components, random_state=42)\n",
    "    \n",
    "    df_ = pd.get_dummies(df.drop(cols_to_drop, axis=1))\n",
    "    df_ = pca.fit_transform(scaler.fit_transform(df_))\n",
    "    \n",
    "    pca_comps = [f'pc_{n+1}' for n in range(df_.shape[1])]\n",
    "    df_ = pd.DataFrame(df_, columns=pca_comps)\n",
    "    df_['prob_V1_V2'] = df['prob_V1_V2']\n",
    "    \n",
    "    return df_"
   ]
  },
  {
   "cell_type": "code",
   "execution_count": 45,
   "metadata": {},
   "outputs": [],
   "source": [
    "df_merged_pca = pca_transform(df_merged)"
   ]
  },
  {
   "cell_type": "code",
   "execution_count": 46,
   "metadata": {},
   "outputs": [],
   "source": [
    "def knn_impute_prob(df_pca):\n",
    "    mask = df_pca['prob_V1_V2'].notna()\n",
    "    \n",
    "    scaler = MinMaxScaler()\n",
    "\n",
    "    X_pca_notna = scaler.fit_transform(df_pca.loc[mask].drop('prob_V1_V2', axis=1))\n",
    "    y_pca_notna = df_pca.loc[mask, 'prob_V1_V2']\n",
    "\n",
    "    X_pca_isna = scaler.transform(df_pca.loc[~mask].drop('prob_V1_V2', axis=1))\n",
    "    \n",
    "    knn_reg_imp = KNeighborsRegressor(weights='distance', n_jobs=-1)\n",
    "    knn_reg_imp.fit(X_pca_notna, y_pca_notna)\n",
    "\n",
    "    df_pca.loc[~mask, 'prob_V1_V2'] = knn_reg_imp.predict(X_pca_isna)\n",
    "    \n",
    "    return df_pca"
   ]
  },
  {
   "cell_type": "code",
   "execution_count": 84,
   "metadata": {
    "scrolled": true
   },
   "outputs": [],
   "source": [
    "df_merged_pca = knn_impute_prob(df_merged_pca)"
   ]
  },
  {
   "cell_type": "code",
   "execution_count": 99,
   "metadata": {},
   "outputs": [],
   "source": [
    "# salvo as taxas imputadas em um novo .csv, contendo apenas as taxas\n",
    "\n",
    "df_merged_pca['prob_V1_V2'].to_csv('../data/df_full_prob.csv', index=False)"
   ]
  },
  {
   "cell_type": "code",
   "execution_count": 101,
   "metadata": {},
   "outputs": [],
   "source": [
    "# incluo as taxas imputados no dataframe mergeado anteriormente\n",
    "\n",
    "df_merged['prob_V1_V2'] = df_merged_pca['prob_V1_V2']"
   ]
  },
  {
   "cell_type": "code",
   "execution_count": 305,
   "metadata": {},
   "outputs": [],
   "source": [
    "# salvo o dataframe completo em um novo .csv\n",
    "\n",
    "df_merged.to_csv('../data/df_full.csv', index=False)"
   ]
  },
  {
   "cell_type": "code",
   "execution_count": 4,
   "metadata": {},
   "outputs": [],
   "source": [
    "df_merged = pd.read_csv('../data/df_full.csv')"
   ]
  },
  {
   "cell_type": "code",
   "execution_count": 5,
   "metadata": {},
   "outputs": [
    {
     "data": {
      "text/html": [
       "<div>\n",
       "<style scoped>\n",
       "    .dataframe tbody tr th:only-of-type {\n",
       "        vertical-align: middle;\n",
       "    }\n",
       "\n",
       "    .dataframe tbody tr th {\n",
       "        vertical-align: top;\n",
       "    }\n",
       "\n",
       "    .dataframe thead th {\n",
       "        text-align: right;\n",
       "    }\n",
       "</style>\n",
       "<table border=\"1\" class=\"dataframe\">\n",
       "  <thead>\n",
       "    <tr style=\"text-align: right;\">\n",
       "      <th></th>\n",
       "      <th>name_V1</th>\n",
       "      <th>idade_V1</th>\n",
       "      <th>qt_filhos_V1</th>\n",
       "      <th>estuda_V1</th>\n",
       "      <th>trabalha_V1</th>\n",
       "      <th>pratica_esportes_V1</th>\n",
       "      <th>IMC_V1</th>\n",
       "      <th>estado_civil-casado_V1</th>\n",
       "      <th>estado_civil-divorciado_V1</th>\n",
       "      <th>estado_civil-solteiro_V1</th>\n",
       "      <th>...</th>\n",
       "      <th>transporte_mais_utilizado-publico_V2</th>\n",
       "      <th>transporte_mais_utilizado-taxi_V2</th>\n",
       "      <th>prob_V1_V2</th>\n",
       "      <th>grau-amigos</th>\n",
       "      <th>grau-familia</th>\n",
       "      <th>grau-trabalho</th>\n",
       "      <th>proximidade-mora_junto</th>\n",
       "      <th>proximidade-visita_casual</th>\n",
       "      <th>proximidade-visita_frequente</th>\n",
       "      <th>proximidade-visita_rara</th>\n",
       "    </tr>\n",
       "  </thead>\n",
       "  <tbody>\n",
       "    <tr>\n",
       "      <th>0</th>\n",
       "      <td>1</td>\n",
       "      <td>0.354839</td>\n",
       "      <td>0.111111</td>\n",
       "      <td>1.0</td>\n",
       "      <td>0.0</td>\n",
       "      <td>1.0</td>\n",
       "      <td>0.205777</td>\n",
       "      <td>0</td>\n",
       "      <td>1</td>\n",
       "      <td>0</td>\n",
       "      <td>...</td>\n",
       "      <td>1</td>\n",
       "      <td>0</td>\n",
       "      <td>0.589462</td>\n",
       "      <td>0</td>\n",
       "      <td>0</td>\n",
       "      <td>1</td>\n",
       "      <td>0</td>\n",
       "      <td>0</td>\n",
       "      <td>1</td>\n",
       "      <td>0</td>\n",
       "    </tr>\n",
       "    <tr>\n",
       "      <th>1</th>\n",
       "      <td>1</td>\n",
       "      <td>0.354839</td>\n",
       "      <td>0.111111</td>\n",
       "      <td>1.0</td>\n",
       "      <td>0.0</td>\n",
       "      <td>1.0</td>\n",
       "      <td>0.205777</td>\n",
       "      <td>0</td>\n",
       "      <td>1</td>\n",
       "      <td>0</td>\n",
       "      <td>...</td>\n",
       "      <td>0</td>\n",
       "      <td>0</td>\n",
       "      <td>0.708465</td>\n",
       "      <td>0</td>\n",
       "      <td>0</td>\n",
       "      <td>1</td>\n",
       "      <td>0</td>\n",
       "      <td>0</td>\n",
       "      <td>0</td>\n",
       "      <td>1</td>\n",
       "    </tr>\n",
       "    <tr>\n",
       "      <th>2</th>\n",
       "      <td>2</td>\n",
       "      <td>0.193548</td>\n",
       "      <td>0.000000</td>\n",
       "      <td>0.0</td>\n",
       "      <td>0.0</td>\n",
       "      <td>1.0</td>\n",
       "      <td>0.243471</td>\n",
       "      <td>1</td>\n",
       "      <td>0</td>\n",
       "      <td>0</td>\n",
       "      <td>...</td>\n",
       "      <td>1</td>\n",
       "      <td>0</td>\n",
       "      <td>0.650190</td>\n",
       "      <td>0</td>\n",
       "      <td>0</td>\n",
       "      <td>1</td>\n",
       "      <td>0</td>\n",
       "      <td>1</td>\n",
       "      <td>0</td>\n",
       "      <td>0</td>\n",
       "    </tr>\n",
       "    <tr>\n",
       "      <th>3</th>\n",
       "      <td>2</td>\n",
       "      <td>0.193548</td>\n",
       "      <td>0.000000</td>\n",
       "      <td>0.0</td>\n",
       "      <td>0.0</td>\n",
       "      <td>1.0</td>\n",
       "      <td>0.243471</td>\n",
       "      <td>1</td>\n",
       "      <td>0</td>\n",
       "      <td>0</td>\n",
       "      <td>...</td>\n",
       "      <td>1</td>\n",
       "      <td>0</td>\n",
       "      <td>0.638842</td>\n",
       "      <td>0</td>\n",
       "      <td>0</td>\n",
       "      <td>1</td>\n",
       "      <td>0</td>\n",
       "      <td>0</td>\n",
       "      <td>0</td>\n",
       "      <td>1</td>\n",
       "    </tr>\n",
       "    <tr>\n",
       "      <th>4</th>\n",
       "      <td>3</td>\n",
       "      <td>0.282258</td>\n",
       "      <td>0.111111</td>\n",
       "      <td>0.0</td>\n",
       "      <td>0.0</td>\n",
       "      <td>1.0</td>\n",
       "      <td>0.179106</td>\n",
       "      <td>0</td>\n",
       "      <td>0</td>\n",
       "      <td>1</td>\n",
       "      <td>...</td>\n",
       "      <td>1</td>\n",
       "      <td>0</td>\n",
       "      <td>0.300833</td>\n",
       "      <td>1</td>\n",
       "      <td>0</td>\n",
       "      <td>0</td>\n",
       "      <td>1</td>\n",
       "      <td>0</td>\n",
       "      <td>0</td>\n",
       "      <td>0</td>\n",
       "    </tr>\n",
       "  </tbody>\n",
       "</table>\n",
       "<p>5 rows × 36 columns</p>\n",
       "</div>"
      ],
      "text/plain": [
       "   name_V1  idade_V1  qt_filhos_V1  estuda_V1  trabalha_V1  \\\n",
       "0        1  0.354839      0.111111        1.0          0.0   \n",
       "1        1  0.354839      0.111111        1.0          0.0   \n",
       "2        2  0.193548      0.000000        0.0          0.0   \n",
       "3        2  0.193548      0.000000        0.0          0.0   \n",
       "4        3  0.282258      0.111111        0.0          0.0   \n",
       "\n",
       "   pratica_esportes_V1    IMC_V1  estado_civil-casado_V1  \\\n",
       "0                  1.0  0.205777                       0   \n",
       "1                  1.0  0.205777                       0   \n",
       "2                  1.0  0.243471                       1   \n",
       "3                  1.0  0.243471                       1   \n",
       "4                  1.0  0.179106                       0   \n",
       "\n",
       "   estado_civil-divorciado_V1  estado_civil-solteiro_V1  ...  \\\n",
       "0                           1                         0  ...   \n",
       "1                           1                         0  ...   \n",
       "2                           0                         0  ...   \n",
       "3                           0                         0  ...   \n",
       "4                           0                         1  ...   \n",
       "\n",
       "   transporte_mais_utilizado-publico_V2  transporte_mais_utilizado-taxi_V2  \\\n",
       "0                                     1                                  0   \n",
       "1                                     0                                  0   \n",
       "2                                     1                                  0   \n",
       "3                                     1                                  0   \n",
       "4                                     1                                  0   \n",
       "\n",
       "   prob_V1_V2  grau-amigos  grau-familia  grau-trabalho  \\\n",
       "0    0.589462            0             0              1   \n",
       "1    0.708465            0             0              1   \n",
       "2    0.650190            0             0              1   \n",
       "3    0.638842            0             0              1   \n",
       "4    0.300833            1             0              0   \n",
       "\n",
       "   proximidade-mora_junto  proximidade-visita_casual  \\\n",
       "0                       0                          0   \n",
       "1                       0                          0   \n",
       "2                       0                          1   \n",
       "3                       0                          0   \n",
       "4                       1                          0   \n",
       "\n",
       "   proximidade-visita_frequente  proximidade-visita_rara  \n",
       "0                             1                        0  \n",
       "1                             0                        1  \n",
       "2                             0                        0  \n",
       "3                             0                        1  \n",
       "4                             0                        0  \n",
       "\n",
       "[5 rows x 36 columns]"
      ]
     },
     "execution_count": 5,
     "metadata": {},
     "output_type": "execute_result"
    }
   ],
   "source": [
    "df_merged.head()"
   ]
  },
  {
   "cell_type": "markdown",
   "metadata": {},
   "source": [
    "## Modelos de Regressão"
   ]
  },
  {
   "cell_type": "code",
   "execution_count": 6,
   "metadata": {},
   "outputs": [],
   "source": [
    "# separação da variável target\n",
    "\n",
    "x = pd.get_dummies(df_merged.drop(cols_to_drop, axis=1), drop_first=True)\n",
    "y = df_merged['prob_V1_V2']"
   ]
  },
  {
   "cell_type": "code",
   "execution_count": 7,
   "metadata": {
    "scrolled": true
   },
   "outputs": [
    {
     "name": "stdout",
     "output_type": "stream",
     "text": [
      "Treinaremos com 749999 elementos e testaremos com 250000 elementos\n"
     ]
    }
   ],
   "source": [
    "# separação dos dados em treino e teste\n",
    "\n",
    "SEED = 26\n",
    "np.random.seed(SEED)\n",
    "\n",
    "train_x, test_x, train_y, test_y = train_test_split(x, y, test_size = 0.25, random_state=42)\n",
    "\n",
    "print(f\"Treinaremos com {len(train_x)} elementos e testaremos com {len(test_x)} elementos\")"
   ]
  },
  {
   "cell_type": "code",
   "execution_count": 8,
   "metadata": {
    "scrolled": false
   },
   "outputs": [
    {
     "name": "stdout",
     "output_type": "stream",
     "text": [
      "LinearRegression()\n",
      "[0.40963745 0.61495972 0.64620972 ... 0.53567505 0.48544312 0.40164185]\n",
      "R2 Score 56.22% \n",
      "\n",
      "SGDRegressor()\n",
      "[0.41284796 0.61741154 0.64798692 ... 0.53683999 0.48640646 0.40753497]\n",
      "R2 Score 56.18% \n",
      "\n",
      "BayesianRidge()\n",
      "[0.40964899 0.61525323 0.64605932 ... 0.535865   0.48563896 0.40151494]\n",
      "R2 Score 56.22% \n",
      "\n",
      "ARDRegression()\n",
      "[0.41019121 0.61504349 0.64695975 ... 0.53729643 0.48594121 0.40222803]\n",
      "R2 Score 56.22% \n",
      "\n",
      "PassiveAggressiveRegressor()\n",
      "[0.36093608 0.54299805 0.58334576 ... 0.47315022 0.35277333 0.32273511]\n",
      "R2 Score 23.17% \n",
      "\n"
     ]
    }
   ],
   "source": [
    "# algoritmos e métrica R2 Score\n",
    "\n",
    "models = [\n",
    "#     svm.SVR(),\n",
    "    linear_model.LinearRegression(),\n",
    "    linear_model.SGDRegressor(),\n",
    "    linear_model.BayesianRidge(),\n",
    "    linear_model.ARDRegression(),\n",
    "    linear_model.PassiveAggressiveRegressor()]\n",
    "#     linear_model.TheilSenRegressor()]\n",
    "\n",
    "\n",
    "for item in models:\n",
    "    print(item)\n",
    "    clf = item\n",
    "    clf.fit(train_x, train_y)\n",
    "    predict = clf.predict(test_x)\n",
    "    print(clf.predict(test_x))\n",
    "    score = r2_score(test_y, predict) * 100\n",
    "    print(\"R2 Score %.2f%%\" % score, '\\n')"
   ]
  },
  {
   "cell_type": "markdown",
   "metadata": {},
   "source": [
    "Opto por fazer a validação cruzada com o algoritmo LinearRegression()."
   ]
  },
  {
   "cell_type": "markdown",
   "metadata": {},
   "source": [
    "###  Validação cruzada dos dados"
   ]
  },
  {
   "cell_type": "code",
   "execution_count": 9,
   "metadata": {},
   "outputs": [
    {
     "name": "stdout",
     "output_type": "stream",
     "text": [
      "Score com cross validation, 3 = [55.86, 56.66]\n",
      "{'fit_time': array([1.60659575, 1.44414306, 1.3702879 ]), 'score_time': array([0.10704207, 0.08200717, 0.04543996]), 'test_score': array([0.56533675, 0.56193811, 0.56055302])}\n"
     ]
    }
   ],
   "source": [
    "# cv = 3\n",
    "\n",
    "SEED = 301\n",
    "np.random.seed(SEED)\n",
    "\n",
    "model = LinearRegression()\n",
    "\n",
    "results = cross_validate(model, x, y, cv = 3, return_train_score=False)\n",
    "mean = results['test_score'].mean()\n",
    "std = results['test_score'].std()\n",
    "\n",
    "print(\"Score com cross validation, 3 = [%.2f, %.2f]\" % ((mean - 2 * std)*100,\n",
    "                                                        (mean + 2 * std)*100))\n",
    "print(results)"
   ]
  },
  {
   "cell_type": "code",
   "execution_count": 46,
   "metadata": {},
   "outputs": [
    {
     "name": "stdout",
     "output_type": "stream",
     "text": [
      "Score com cross validation, 10 = [55.62, 56.90]\n",
      "{'fit_time': array([2.53510904, 2.05164599, 1.99804688, 1.98397279, 1.85266495,\n",
      "       1.84970069, 1.86967111, 1.84067369, 1.86089396, 1.84738994]), 'score_time': array([0.02246881, 0.01467609, 0.01553512, 0.01438904, 0.01508021,\n",
      "       0.01422524, 0.01399398, 0.0145731 , 0.01412511, 0.01471019]), 'test_score': array([0.56589613, 0.56638002, 0.56639624, 0.5586997 , 0.5640546 ,\n",
      "       0.55883428, 0.56229165, 0.5650462 , 0.5586965 , 0.55964264])}\n"
     ]
    }
   ],
   "source": [
    "# cv = 10\n",
    "\n",
    "SEED = 301\n",
    "np.random.seed(SEED)\n",
    "\n",
    "model = LinearRegression()\n",
    "\n",
    "results = cross_validate(modelo, x, y, cv = 10, return_train_score=False)\n",
    "mean = results['test_score'].mean()\n",
    "std = results['test_score'].std()\n",
    "\n",
    "print(\"Score com cross validation, 10 = [%.2f, %.2f]\" % ((mean - 2 * std)*100,\n",
    "                                                         (mean + 2 * std)*100))\n",
    "print(results)"
   ]
  },
  {
   "cell_type": "code",
   "execution_count": 47,
   "metadata": {},
   "outputs": [
    {
     "name": "stdout",
     "output_type": "stream",
     "text": [
      "Score com cross validation, 5 = [55.79, 56.72]\n",
      "{'fit_time': array([2.00240517, 2.21604729, 1.71374011, 1.66063499, 1.65499997]), 'score_time': array([0.05433202, 0.0289259 , 0.02736902, 0.02679205, 0.02770114]), 'test_score': array([0.5661568 , 0.56255104, 0.56149217, 0.56363414, 0.55912805])}\n"
     ]
    }
   ],
   "source": [
    "# cv = 5\n",
    "\n",
    "SEED = 301\n",
    "np.random.seed(SEED)\n",
    "\n",
    "model = LinearRegression()\n",
    "\n",
    "results = cross_validate(modelo, x, y, cv = 5, return_train_score=False)\n",
    "mean = results['test_score'].mean()\n",
    "std = results['test_score'].std()\n",
    "\n",
    "print(\"Score com cross validation, 5 = [%.2f, %.2f]\" % ((mean - 2 * std)*100, \n",
    "                                                           (mean + 2 * std)*100))\n",
    "print(results)"
   ]
  },
  {
   "cell_type": "markdown",
   "metadata": {},
   "source": [
    "### Aleatoriedade dos dados"
   ]
  },
  {
   "cell_type": "code",
   "execution_count": 48,
   "metadata": {},
   "outputs": [],
   "source": [
    "def imprime_resultados(results):\n",
    "    mean = results['test_score'].mean()\n",
    "    std = results['test_score'].std()\n",
    "    \n",
    "    print(\"Score médio: %.2f\" % (mean * 100))\n",
    "    print(\"Score intervalo: [%.2f, %.2f]\" % ((mean - 2 * std)*100, (mean + 2 * std) * 100))"
   ]
  },
  {
   "cell_type": "code",
   "execution_count": 49,
   "metadata": {},
   "outputs": [
    {
     "name": "stdout",
     "output_type": "stream",
     "text": [
      "Score médio: 56.26\n",
      "Score intervalo: [55.79, 56.72]\n"
     ]
    }
   ],
   "source": [
    "SEED = 301\n",
    "np.random.seed(SEED)\n",
    "\n",
    "cv = KFold(n_splits = 5)\n",
    "\n",
    "model = LinearRegression()\n",
    "results = cross_validate(modelo, x, y, cv = cv, return_train_score=False)\n",
    "\n",
    "imprime_resultados(results)"
   ]
  },
  {
   "cell_type": "code",
   "execution_count": 50,
   "metadata": {},
   "outputs": [
    {
     "name": "stdout",
     "output_type": "stream",
     "text": [
      "Score médio: 56.26\n",
      "Score intervalo: [55.86, 56.66]\n"
     ]
    }
   ],
   "source": [
    "SEED = 301\n",
    "np.random.seed(SEED)\n",
    "\n",
    "cv = KFold(n_splits = 10, shuffle = True)\n",
    "\n",
    "model = LinearRegression()\n",
    "results = cross_validate(modelo, x, y, cv = cv, return_train_score=False)\n",
    "\n",
    "imprime_resultados(results)"
   ]
  },
  {
   "cell_type": "markdown",
   "metadata": {},
   "source": [
    "### Obersavções:\n",
    "\n",
    "Mesmo optando por permanecer com a regressão linear, que não teve uma performance alta, com mais tempo disponível, além de ter a possibilidade de testar e avaliar outros algoritmos, poderiam ter sido testadas métricas diferentes do R2 Score. Também, poderiam ter sido realizados outros métodos de manipulação e tratamento dos dados, com imputações diferentes das taxas de contaminação, por exemplo. Pesquisando na literatura, algoritmos de redes neurais perfomam de maneira muito superior e mais satisfatória que as regressões, dado o pouco contato com redes neurais, optei por permanecer com a regressão."
   ]
  },
  {
   "cell_type": "markdown",
   "metadata": {},
   "source": [
    "## Completando os dados mergeados com a estimativas das taxas de contaminação"
   ]
  },
  {
   "cell_type": "code",
   "execution_count": 11,
   "metadata": {},
   "outputs": [],
   "source": [
    "df_merged_full = df_merged.copy(deep=True)"
   ]
  },
  {
   "cell_type": "code",
   "execution_count": 14,
   "metadata": {
    "scrolled": true
   },
   "outputs": [],
   "source": [
    "re_cols = ['V2', 'V1', 'grau', 'proximidade']\n",
    "re_con_df = df_conexoes[re_cols].copy(deep=True).rename(columns={'V1': 'V2', 'V2': 'V1'})\n",
    "re_con_df['prob_V1_V2'] = np.nan"
   ]
  },
  {
   "cell_type": "code",
   "execution_count": 27,
   "metadata": {
    "scrolled": true
   },
   "outputs": [],
   "source": [
    "df_half = create_df(df_ind, df_con)"
   ]
  },
  {
   "cell_type": "code",
   "execution_count": 28,
   "metadata": {},
   "outputs": [],
   "source": [
    "X_half = df_half.drop(cols_to_drop, axis=1)\n",
    "X_half = pd.get_dummies(X_half, drop_first=True)"
   ]
  },
  {
   "cell_type": "code",
   "execution_count": 29,
   "metadata": {},
   "outputs": [],
   "source": [
    "lr_model = LinearRegression().fit(train_x, train_y)"
   ]
  },
  {
   "cell_type": "code",
   "execution_count": 31,
   "metadata": {},
   "outputs": [
    {
     "name": "stdout",
     "output_type": "stream",
     "text": [
      "\n"
     ]
    }
   ],
   "source": [
    "df_half['prob_V1_V2'] = lr_model.predict(X_half)"
   ]
  },
  {
   "cell_type": "code",
   "execution_count": 75,
   "metadata": {},
   "outputs": [],
   "source": [
    "df = df_merged_full.append(df_half, ignore_index=True).drop(['name_V1', 'name_V2'], axis=1)\n",
    "\n",
    "cols = ['idade_V1', 'qt_filhos_V1', 'estuda_V1', 'trabalha_V1', 'pratica_esportes_V1',\n",
    "        'idade_V2', 'qt_filhos_V2', 'estuda_V2', 'trabalha_V2', 'pratica_esportes_V2']\n",
    "\n",
    "df[cols] = df[cols].round()"
   ]
  },
  {
   "cell_type": "markdown",
   "metadata": {},
   "source": [
    "## Revertendo a normalização e o encode dos dados"
   ]
  },
  {
   "cell_type": "code",
   "execution_count": 76,
   "metadata": {},
   "outputs": [],
   "source": [
    "estado_civil = ['casado', 'divorciado', 'solteiro', 'viuvo']\n",
    "transporte_mais_utilizado = ['particular', 'publico', 'taxi']\n",
    "grau = ['amigos', 'familia', 'trabalho']\n",
    "proximidade = ['mora_junto', 'visita_casual', 'visita_frequente', 'visita_rara']"
   ]
  },
  {
   "cell_type": "code",
   "execution_count": 77,
   "metadata": {},
   "outputs": [],
   "source": [
    "def get_categorical(elements_list, categorical_values):\n",
    "    values = []\n",
    "    for element in elements_list:\n",
    "        values.append(categorical_values[element.index(1.0)])\n",
    "    return values"
   ]
  },
  {
   "cell_type": "code",
   "execution_count": 78,
   "metadata": {},
   "outputs": [],
   "source": [
    "# estado civil\n",
    "\n",
    "cols = ['estado_civil-casado_V1', 'estado_civil-divorciado_V1', \n",
    "        'estado_civil-solteiro_V1', 'estado_civil-viuvo_V1']\n",
    "temp_data = df[cols].values.tolist()\n",
    "df.drop(columns=cols, inplace=True)\n",
    "col_data = get_categorical(temp_data, estado_civil)\n",
    "df['estado_civil_V1'] = col_data\n",
    "\n",
    "cols = ['estado_civil-casado_V2', 'estado_civil-divorciado_V2', \n",
    "        'estado_civil-solteiro_V2', 'estado_civil-viuvo_V2']\n",
    "temp_data = df[cols].values.tolist()\n",
    "df.drop(columns=cols, inplace=True)\n",
    "col_data = get_categorical(temp_data, estado_civil)\n",
    "df['estado_civil_V2'] = col_data"
   ]
  },
  {
   "cell_type": "code",
   "execution_count": 79,
   "metadata": {},
   "outputs": [],
   "source": [
    "# transporte mais utilizado\n",
    "\n",
    "cols = ['transporte_mais_utilizado-particular_V1', \n",
    "        'transporte_mais_utilizado-publico_V1', \n",
    "        'transporte_mais_utilizado-taxi_V1']\n",
    "temp_data = df[cols].values.tolist()\n",
    "df.drop(columns=cols, inplace=True)\n",
    "col_data = get_categorical(temp_data, transporte_mais_utilizado)\n",
    "df['transporte_mais_utilizado_V1'] = col_data\n",
    "\n",
    "cols = ['transporte_mais_utilizado-particular_V2', \n",
    "        'transporte_mais_utilizado-publico_V2', \n",
    "        'transporte_mais_utilizado-taxi_V2']\n",
    "temp_data = df[cols].values.tolist()\n",
    "df.drop(columns=cols, inplace=True)\n",
    "col_data = get_categorical(temp_data, transporte_mais_utilizado)\n",
    "df['transporte_mais_utilizado_V2'] = col_data"
   ]
  },
  {
   "cell_type": "code",
   "execution_count": 80,
   "metadata": {},
   "outputs": [],
   "source": [
    "# grau\n",
    "\n",
    "cols = ['grau-amigos', 'grau-familia', 'grau-trabalho']\n",
    "temp_data = df[cols].values.tolist()\n",
    "df.drop(columns=cols, inplace=True)\n",
    "col_data = get_categorical(temp_data, grau)\n",
    "df['grau'] = col_data"
   ]
  },
  {
   "cell_type": "code",
   "execution_count": 81,
   "metadata": {
    "scrolled": true
   },
   "outputs": [],
   "source": [
    "# proximidade\n",
    "\n",
    "cols = ['proximidade-mora_junto', 'proximidade-visita_casual', \n",
    "        'proximidade-visita_frequente', 'proximidade-visita_rara']\n",
    "temp_data = df[cols].values.tolist()\n",
    "df.drop(columns=cols, inplace=True)\n",
    "col_data = get_categorical(temp_data, proximidade)\n",
    "df['proximidade'] = col_data"
   ]
  },
  {
   "cell_type": "code",
   "execution_count": 79,
   "metadata": {
    "scrolled": true
   },
   "outputs": [
    {
     "name": "stderr",
     "output_type": "stream",
     "text": [
      "100%|████████████████████████████████████████████████████████████████████████████████████████████████████| 3/3 [00:00<00:00,  3.55it/s]\n"
     ]
    }
   ],
   "source": [
    "# revertendo a normalização\n",
    "\n",
    "def denormalize(df, col, norm_params):\n",
    "    maxim = norm_params[f'max_{col}']\n",
    "    minim = norm_params[f'min_{col}']\n",
    "    v_col = f'{col}_V1'\n",
    "    df[v_col] = (df[v_col]*(maxim - minim)) + minim\n",
    "    v_col = f'{col}_V2'\n",
    "    df[v_col] = (df[v_col]*(maxim - minim)) + minim\n",
    "cols = ['idade', 'qt_filhos', 'IMC']\n",
    "for col in tqdm(cols):\n",
    "    denormalize(df, col, norm_params)"
   ]
  },
  {
   "cell_type": "code",
   "execution_count": 99,
   "metadata": {},
   "outputs": [],
   "source": [
    "# salvando o dataframe final, com as estimativas completas, em um novo .csv\n",
    "\n",
    "df.to_csv('../data/df_full_denorm.csv', index=False)"
   ]
  },
  {
   "cell_type": "code",
   "execution_count": 100,
   "metadata": {},
   "outputs": [
    {
     "data": {
      "text/html": [
       "<div>\n",
       "<style scoped>\n",
       "    .dataframe tbody tr th:only-of-type {\n",
       "        vertical-align: middle;\n",
       "    }\n",
       "\n",
       "    .dataframe tbody tr th {\n",
       "        vertical-align: top;\n",
       "    }\n",
       "\n",
       "    .dataframe thead th {\n",
       "        text-align: right;\n",
       "    }\n",
       "</style>\n",
       "<table border=\"1\" class=\"dataframe\">\n",
       "  <thead>\n",
       "    <tr style=\"text-align: right;\">\n",
       "      <th></th>\n",
       "      <th>idade_V1</th>\n",
       "      <th>qt_filhos_V1</th>\n",
       "      <th>estuda_V1</th>\n",
       "      <th>trabalha_V1</th>\n",
       "      <th>pratica_esportes_V1</th>\n",
       "      <th>IMC_V1</th>\n",
       "      <th>idade_V2</th>\n",
       "      <th>qt_filhos_V2</th>\n",
       "      <th>estuda_V2</th>\n",
       "      <th>trabalha_V2</th>\n",
       "      <th>pratica_esportes_V2</th>\n",
       "      <th>IMC_V2</th>\n",
       "      <th>prob_V1_V2</th>\n",
       "      <th>estado_civil_V1</th>\n",
       "      <th>estado_civil_V2</th>\n",
       "      <th>transporte_mais_utilizado_V1</th>\n",
       "      <th>transporte_mais_utilizado_V2</th>\n",
       "      <th>grau</th>\n",
       "      <th>proximidade</th>\n",
       "    </tr>\n",
       "  </thead>\n",
       "  <tbody>\n",
       "    <tr>\n",
       "      <th>0</th>\n",
       "      <td>44.0</td>\n",
       "      <td>1.0</td>\n",
       "      <td>1.0</td>\n",
       "      <td>0.0</td>\n",
       "      <td>1.0</td>\n",
       "      <td>22.200956</td>\n",
       "      <td>24.0</td>\n",
       "      <td>0.0</td>\n",
       "      <td>0.0</td>\n",
       "      <td>0.0</td>\n",
       "      <td>1.0</td>\n",
       "      <td>25.378720</td>\n",
       "      <td>0.589462</td>\n",
       "      <td>divorciado</td>\n",
       "      <td>casado</td>\n",
       "      <td>publico</td>\n",
       "      <td>publico</td>\n",
       "      <td>trabalho</td>\n",
       "      <td>visita_frequente</td>\n",
       "    </tr>\n",
       "    <tr>\n",
       "      <th>1</th>\n",
       "      <td>44.0</td>\n",
       "      <td>1.0</td>\n",
       "      <td>1.0</td>\n",
       "      <td>0.0</td>\n",
       "      <td>1.0</td>\n",
       "      <td>22.200956</td>\n",
       "      <td>35.0</td>\n",
       "      <td>1.0</td>\n",
       "      <td>0.0</td>\n",
       "      <td>0.0</td>\n",
       "      <td>1.0</td>\n",
       "      <td>19.952393</td>\n",
       "      <td>0.708465</td>\n",
       "      <td>divorciado</td>\n",
       "      <td>solteiro</td>\n",
       "      <td>publico</td>\n",
       "      <td>particular</td>\n",
       "      <td>trabalho</td>\n",
       "      <td>visita_rara</td>\n",
       "    </tr>\n",
       "    <tr>\n",
       "      <th>2</th>\n",
       "      <td>24.0</td>\n",
       "      <td>0.0</td>\n",
       "      <td>0.0</td>\n",
       "      <td>0.0</td>\n",
       "      <td>1.0</td>\n",
       "      <td>25.378720</td>\n",
       "      <td>50.0</td>\n",
       "      <td>1.0</td>\n",
       "      <td>1.0</td>\n",
       "      <td>1.0</td>\n",
       "      <td>0.0</td>\n",
       "      <td>26.732053</td>\n",
       "      <td>0.602863</td>\n",
       "      <td>casado</td>\n",
       "      <td>casado</td>\n",
       "      <td>publico</td>\n",
       "      <td>publico</td>\n",
       "      <td>trabalho</td>\n",
       "      <td>visita_casual</td>\n",
       "    </tr>\n",
       "    <tr>\n",
       "      <th>3</th>\n",
       "      <td>24.0</td>\n",
       "      <td>0.0</td>\n",
       "      <td>0.0</td>\n",
       "      <td>0.0</td>\n",
       "      <td>1.0</td>\n",
       "      <td>25.378720</td>\n",
       "      <td>30.0</td>\n",
       "      <td>2.0</td>\n",
       "      <td>1.0</td>\n",
       "      <td>0.0</td>\n",
       "      <td>1.0</td>\n",
       "      <td>15.295668</td>\n",
       "      <td>0.638842</td>\n",
       "      <td>casado</td>\n",
       "      <td>solteiro</td>\n",
       "      <td>publico</td>\n",
       "      <td>publico</td>\n",
       "      <td>trabalho</td>\n",
       "      <td>visita_rara</td>\n",
       "    </tr>\n",
       "    <tr>\n",
       "      <th>4</th>\n",
       "      <td>35.0</td>\n",
       "      <td>1.0</td>\n",
       "      <td>0.0</td>\n",
       "      <td>0.0</td>\n",
       "      <td>1.0</td>\n",
       "      <td>19.952393</td>\n",
       "      <td>20.0</td>\n",
       "      <td>1.0</td>\n",
       "      <td>0.0</td>\n",
       "      <td>1.0</td>\n",
       "      <td>0.0</td>\n",
       "      <td>20.412942</td>\n",
       "      <td>0.232270</td>\n",
       "      <td>solteiro</td>\n",
       "      <td>solteiro</td>\n",
       "      <td>particular</td>\n",
       "      <td>publico</td>\n",
       "      <td>amigos</td>\n",
       "      <td>mora_junto</td>\n",
       "    </tr>\n",
       "  </tbody>\n",
       "</table>\n",
       "</div>"
      ],
      "text/plain": [
       "   idade_V1  qt_filhos_V1  estuda_V1  trabalha_V1  pratica_esportes_V1  \\\n",
       "0      44.0           1.0        1.0          0.0                  1.0   \n",
       "1      44.0           1.0        1.0          0.0                  1.0   \n",
       "2      24.0           0.0        0.0          0.0                  1.0   \n",
       "3      24.0           0.0        0.0          0.0                  1.0   \n",
       "4      35.0           1.0        0.0          0.0                  1.0   \n",
       "\n",
       "      IMC_V1  idade_V2  qt_filhos_V2  estuda_V2  trabalha_V2  \\\n",
       "0  22.200956      24.0           0.0        0.0          0.0   \n",
       "1  22.200956      35.0           1.0        0.0          0.0   \n",
       "2  25.378720      50.0           1.0        1.0          1.0   \n",
       "3  25.378720      30.0           2.0        1.0          0.0   \n",
       "4  19.952393      20.0           1.0        0.0          1.0   \n",
       "\n",
       "   pratica_esportes_V2     IMC_V2  prob_V1_V2 estado_civil_V1 estado_civil_V2  \\\n",
       "0                  1.0  25.378720    0.589462      divorciado          casado   \n",
       "1                  1.0  19.952393    0.708465      divorciado        solteiro   \n",
       "2                  0.0  26.732053    0.602863          casado          casado   \n",
       "3                  1.0  15.295668    0.638842          casado        solteiro   \n",
       "4                  0.0  20.412942    0.232270        solteiro        solteiro   \n",
       "\n",
       "  transporte_mais_utilizado_V1 transporte_mais_utilizado_V2      grau  \\\n",
       "0                      publico                      publico  trabalho   \n",
       "1                      publico                   particular  trabalho   \n",
       "2                      publico                      publico  trabalho   \n",
       "3                      publico                      publico  trabalho   \n",
       "4                   particular                      publico    amigos   \n",
       "\n",
       "        proximidade  \n",
       "0  visita_frequente  \n",
       "1       visita_rara  \n",
       "2     visita_casual  \n",
       "3       visita_rara  \n",
       "4        mora_junto  "
      ]
     },
     "execution_count": 100,
     "metadata": {},
     "output_type": "execute_result"
    }
   ],
   "source": [
    "df.head()"
   ]
  },
  {
   "cell_type": "markdown",
   "metadata": {},
   "source": [
    "### Principais referências:\n",
    "\n",
    "- [Documentação scikit-learn](https://scikit-learn.org/stable/)\n",
    "- [Hands-On Machine Learning with Scikit-Learn and TensorFlow](https://www.oreilly.com/library/view/hands-on-machine-learning/9781491962282/)"
   ]
  }
 ],
 "metadata": {
  "kernelspec": {
   "display_name": "Python 3 (ipykernel)",
   "language": "python",
   "name": "python3"
  },
  "language_info": {
   "codemirror_mode": {
    "name": "ipython",
    "version": 3
   },
   "file_extension": ".py",
   "mimetype": "text/x-python",
   "name": "python",
   "nbconvert_exporter": "python",
   "pygments_lexer": "ipython3",
   "version": "3.8.12"
  }
 },
 "nbformat": 4,
 "nbformat_minor": 4
}
